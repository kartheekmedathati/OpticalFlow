{
 "cells": [
  {
   "cell_type": "code",
   "execution_count": 5,
   "metadata": {},
   "outputs": [],
   "source": [
    "import matplotlib\n",
    "matplotlib.use('module://kivy.garden.matplotlib.backend_kivy')\n",
    "from kivy.app import App\n",
    "from kivy.uix.boxlayout import BoxLayout\n",
    "from kivy.clock import Clock\n",
    "import matplotlib.pyplot as plt\n",
    "\n",
    "fig, ax = plt.subplots()\n",
    "canvas = fig.canvas\n",
    "\n",
    "\n",
    "class MyApp(App):\n",
    "    def build(self):\n",
    "        box = BoxLayout()\n",
    "        self.i = 0\n",
    "        self.line = [self.i]\n",
    "        box.add_widget(canvas)\n",
    "        plt.show()\n",
    "        Clock.schedule_interval(self.update, 1)\n",
    "        return box\n",
    "\n",
    "    def update(self, *args):\n",
    "        plt.plot(self.line, self.line)\n",
    "        self.i += 1\n",
    "        self.line.append(self.i)\n",
    "        canvas.draw_idle()\n",
    "\n",
    "\n",
    "MyApp().run()\n"
   ]
  },
  {
   "cell_type": "code",
   "execution_count": null,
   "metadata": {},
   "outputs": [],
   "source": []
  }
 ],
 "metadata": {
  "kernelspec": {
   "display_name": "Python 3",
   "language": "python",
   "name": "python3"
  },
  "language_info": {
   "codemirror_mode": {
    "name": "ipython",
    "version": 3
   },
   "file_extension": ".py",
   "mimetype": "text/x-python",
   "name": "python",
   "nbconvert_exporter": "python",
   "pygments_lexer": "ipython3",
   "version": "3.8.2"
  }
 },
 "nbformat": 4,
 "nbformat_minor": 2
}
